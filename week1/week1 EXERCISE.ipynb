{
 "cells": [
  {
   "cell_type": "markdown",
   "id": "fe12c203-e6a6-452c-a655-afb8a03a4ff5",
   "metadata": {},
   "source": [
    "# End of week 1 exercise\n",
    "\n",
    "To demonstrate your familiarity with OpenAI API, and also Ollama, build a tool that takes a technical question,  \n",
    "and responds with an explanation. This is a tool that you will be able to use yourself during the course!"
   ]
  },
  {
   "cell_type": "code",
   "execution_count": 19,
   "id": "c1070317-3ed9-4659-abe3-828943230e03",
   "metadata": {},
   "outputs": [],
   "source": [
    "# imports\n",
    "import os\n",
    "from dotenv import load_dotenv\n",
    "from IPython.display import Markdown, display, update_display\n",
    "from openai import OpenAI\n",
    "import ollama"
   ]
  },
  {
   "cell_type": "code",
   "execution_count": 2,
   "id": "4a456906-915a-4bfd-bb9d-57e505c5093f",
   "metadata": {},
   "outputs": [],
   "source": [
    "# constants\n",
    "\n",
    "MODEL_GPT = 'gpt-4o-mini'\n",
    "MODEL_LLAMA = 'llama3.2'"
   ]
  },
  {
   "cell_type": "code",
   "execution_count": 7,
   "id": "a8d7923c-5f28-4c30-8556-342d7c8497c1",
   "metadata": {},
   "outputs": [
    {
     "name": "stdout",
     "output_type": "stream",
     "text": [
      "API key looks good so far\n"
     ]
    }
   ],
   "source": [
    "# set up environment\n",
    "load_dotenv(override=True)\n",
    "api_key = os.getenv('OPENAI_API_KEY')\n",
    "\n",
    "if api_key and api_key.startswith('sk-proj-') and len(api_key)>10:\n",
    "    print(\"API key looks good so far\")\n",
    "else:\n",
    "    print(\"There might be a problem with your API key? Please visit the troubleshooting notebook!\")\n",
    "    \n",
    "openai = OpenAI()"
   ]
  },
  {
   "cell_type": "code",
   "execution_count": 4,
   "id": "3f0d0137-52b0-47a8-81a8-11a90a010798",
   "metadata": {},
   "outputs": [],
   "source": [
    "# here is the question; type over this to ask something new\n",
    "\n",
    "question = \"\"\"\n",
    "Please explain what this code does and why:\n",
    "yield from {book.get(\"author\") for book in books if book.get(\"author\")}\n",
    "\"\"\""
   ]
  },
  {
   "cell_type": "code",
   "execution_count": 12,
   "id": "9026d887-2900-4f37-8469-9a0796a4cd85",
   "metadata": {},
   "outputs": [],
   "source": [
    "system_prompt = \"You are a Technical expert that will be my coding assistant. I am going to ask you some questions, \\\n",
    "mainly related with software development and mainly in Python. Respond in markdown and providing code snippets if possible\"\n",
    "\n",
    "user_prompt = question + \". Respond in markdown and providing code snippets if possible\"\n",
    "\n",
    "messages = [\n",
    "    {\"role\": \"system\", \"content\": system_prompt},\n",
    "    {\"role\": \"user\", \"content\": user_prompt}\n",
    "]"
   ]
  },
  {
   "cell_type": "code",
   "execution_count": 11,
   "id": "60ce7000-a4a5-4cce-a261-e75ef45063b4",
   "metadata": {},
   "outputs": [],
   "source": [
    "# Get gpt-4o-mini to answer, with streaming\n",
    "def ask_gpt():\n",
    "    stream = openai.chat.completions.create(\n",
    "        model = MODEL_GPT,\n",
    "        messages = messages,\n",
    "        stream = True\n",
    "    )\n",
    "\n",
    "    response = \"\"\n",
    "    display_handle = display(Markdown(\"\"), display_id = True)\n",
    "    for chunk in stream:\n",
    "        response += chunk.choices[0].delta.content or ''\n",
    "        response = response.replace(\"```\",\"\").replace(\"markdown\", \"\")\n",
    "        update_display(Markdown(response), display_id = display_handle.display_id)"
   ]
  },
  {
   "cell_type": "code",
   "execution_count": 9,
   "id": "5ca896e8-803a-4e5b-98e9-519654e93112",
   "metadata": {},
   "outputs": [
    {
     "data": {
      "text/markdown": [
       "The code snippet you provided is using a generator expression alongside a set comprehension in Python. Let's break down what each part does and why it's structured this way.\n",
       "\n",
       "### Code Breakdown\n",
       "\n",
       "python\n",
       "yield from {book.get(\"author\") for book in books if book.get(\"author\")}\n",
       "\n",
       "\n",
       "1. **Set Comprehension**: \n",
       "   - The part `{book.get(\"author\") for book in books if book.get(\"author\")}` is a set comprehension that iterates over `books`, which is assumed to be a list (or any iterable) of dictionaries.\n",
       "   - For each `book` in `books`, it retrieves the value associated with the \"author\" key using `book.get(\"author\")`.\n",
       "   - The `if book.get(\"author\")` condition filters out any books that do not have an \"author\" key or where the value of the \"author\" key is `None`, empty, or other falsy values. It ensures that only valid author values are included.\n",
       "   - The result is a set of unique authors since sets automatically handle duplicate entries.\n",
       "\n",
       "2. **Yield From**:\n",
       "   - The `yield from` expression is used inside a generator function. It effectively delegates the yielding of multiple values from an iterable (in this case, the set of authors).\n",
       "   - This allows the generator to yield each author one at a time as if they were yielded directly from this generator function, making code easier to read and write.\n",
       "\n",
       "### Example Usage\n",
       "\n",
       "Here's a complete example demonstrating how this might work in the context of a generator function:\n",
       "\n",
       "python\n",
       "def get_authors(books):\n",
       "    yield from {book.get(\"author\") for book in books if book.get(\"author\")}\n",
       "\n",
       "# Example list of books\n",
       "books = [\n",
       "    {\"title\": \"Book One\", \"author\": \"Author A\"},\n",
       "    {\"title\": \"Book Two\", \"author\": \"Author B\"},\n",
       "    {\"title\": \"Book Three\"},  # No author\n",
       "    {\"title\": \"Book Four\", \"author\": \"Author A\"},  # Duplicate author\n",
       "]\n",
       "\n",
       "# Using the generator function\n",
       "for author in get_authors(books):\n",
       "    print(author)\n",
       "\n",
       "\n",
       "### Output\n",
       "\n",
       "\n",
       "Author A\n",
       "Author B\n",
       "\n",
       "\n",
       "### Summary\n",
       "\n",
       "- The code constructs a set of unique authors from a list of book dictionaries while filtering out entries without an author.\n",
       "- It yields each unique author from a generator, providing a flexible way to work with potentially large datasets without loading everything into memory at once.\n",
       "\n",
       "Using `yield from` with a set comprehension is efficient for generating unique values and managing memory usage effectively."
      ],
      "text/plain": [
       "<IPython.core.display.Markdown object>"
      ]
     },
     "metadata": {},
     "output_type": "display_data"
    }
   ],
   "source": [
    "ask_gpt()"
   ]
  },
  {
   "cell_type": "code",
   "execution_count": 23,
   "id": "8f7c8ea8-4082-4ad0-8751-3301adcf6538",
   "metadata": {},
   "outputs": [],
   "source": [
    "# Get Llama 3.2 to answer\n",
    "def ask_ollama():\n",
    "    response = ollama.chat(model=MODEL_LLAMA, messages=messages)\n",
    "    display(Markdown(response['message']['content']))"
   ]
  },
  {
   "cell_type": "code",
   "execution_count": 24,
   "id": "5cf32145-f446-4059-8823-4df189d39693",
   "metadata": {},
   "outputs": [
    {
     "data": {
      "text/markdown": [
       "**Understanding the Code**\n",
       "==========================\n",
       "\n",
       "The given code snippet uses a combination of Python features to extract author names from a list of dictionaries (`books`). Here's a breakdown:\n",
       "\n",
       "* `yield from`: This is a syntax feature introduced in Python 3.3, which allows you to delegate iteration to another iterable.\n",
       "* `{book.get(\"author\") for book in books if book.get(\"author\")}`: This is a generator expression that filters and extracts values from the `books` list.\n",
       "\n",
       "**Step-by-Step Explanation**\n",
       "-----------------------------\n",
       "\n",
       "1. **Iteration**: The `for book in books` part iterates over each dictionary (`book`) in the `books` list.\n",
       "2. **Filtering**: The `if book.get(\"author\")` condition filters out dictionaries that don't have an `\"author\"` key. This ensures we only process dictionaries with author information.\n",
       "3. **Value Extraction**: Within the iteration, `.get(\"author\")` extracts the value associated with the `\"author\"` key from each dictionary.\n",
       "\n",
       "**Yielding Values**\n",
       "-------------------\n",
       "\n",
       "The `yield from` keyword is used to delegate the iteration to the generator expression `{book.get(\"author\") for book in books if book.get(\"author\")}`. This means that instead of yielding values directly, we yield values from another iterable (the generator expression).\n",
       "\n",
       "When we use `yield from`, Python will:\n",
       "\n",
       "* Start executing the inner code (the generator expression)\n",
       "* Yield values from the inner iterable\n",
       "* Pass each yielded value to the outer iteration\n",
       "\n",
       "In this case, `yield from` allows us to create an iterator that yields author names without having to manually construct a list or other data structure.\n",
       "\n",
       "**Example Code**\n",
       "-----------------\n",
       "\n",
       "```python\n",
       "def get_authors(books):\n",
       "    yield from {book.get(\"author\") for book in books if book.get(\"author\")}\n",
       "\n",
       "# Example usage:\n",
       "books = [\n",
       "    {\"title\": \"Book 1\", \"author\": \"John Doe\"},\n",
       "    {\"title\": \"Book 2\", \"publisher\": \"ABC Inc.\"},  # No author\n",
       "    {\"title\": \"Book 3\", \"author\": \"Jane Smith\"}\n",
       "]\n",
       "\n",
       "for author in get_authors(books):\n",
       "    print(author)  # Output: John Doe, Jane Smith\n",
       "```\n",
       "\n",
       "In summary, this code uses a generator expression and `yield from` to efficiently extract author names from a list of dictionaries while filtering out dictionaries without author information."
      ],
      "text/plain": [
       "<IPython.core.display.Markdown object>"
      ]
     },
     "metadata": {},
     "output_type": "display_data"
    }
   ],
   "source": [
    "ask_ollama()"
   ]
  }
 ],
 "metadata": {
  "kernelspec": {
   "display_name": "Python 3 (ipykernel)",
   "language": "python",
   "name": "python3"
  },
  "language_info": {
   "codemirror_mode": {
    "name": "ipython",
    "version": 3
   },
   "file_extension": ".py",
   "mimetype": "text/x-python",
   "name": "python",
   "nbconvert_exporter": "python",
   "pygments_lexer": "ipython3",
   "version": "3.11.11"
  }
 },
 "nbformat": 4,
 "nbformat_minor": 5
}
